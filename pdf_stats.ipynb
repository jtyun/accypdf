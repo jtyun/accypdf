{
 "cells": [
  {
   "cell_type": "code",
   "execution_count": 92,
   "metadata": {},
   "outputs": [],
   "source": [
    "#import PyPDF2\n",
    "import tika\n",
    "from tika import parser\n",
    "import tabula\n",
    "import xml.etree.ElementTree as ET \n",
    "import pandas as pd\n",
    "import matplotlib.pyplot as plt\n",
    "%matplotlib inline"
   ]
  },
  {
   "cell_type": "code",
   "execution_count": 93,
   "metadata": {},
   "outputs": [],
   "source": [
    "file='C2016.pdf'                                                        #pdf file name\n",
    "raw_xml = parser.from_file(file, xmlContent=True)                       #Parse the pdf to get text in form of raw xml\n",
    "\n",
    "#Clean xml tags to extract text\n",
    "body = raw_xml['content'].split('<body>')[1].split('</body>')[0]\n",
    "body_without_tag = body.replace(\"<p>\", \"\").replace(\"</p>\", \"\").replace(\"<div>\", \"\").replace(\"</div>\",\"\").replace(\"<p />\",\"\")\n",
    "\n",
    "#Get the text data and store it in the form of a list\n",
    "text_pages = body_without_tag.split(\"\"\"<div class=\"page\">\"\"\")[1:]   #Text data\n",
    "num_pages = len(text_pages)      # Page numbers"
   ]
  },
  {
   "cell_type": "code",
   "execution_count": 94,
   "metadata": {},
   "outputs": [
    {
     "data": {
      "text/plain": [
       "'\\n \\n\\n 10 \\n\\nExpenses and Program Revenues – Governmental Activities \\n \\n\\n$0\\n\\n$1,000,000\\n\\n$2,000,000\\n\\n$3,000,000\\n\\n$4,000,000\\n\\n$5,000,000\\n\\n$6,000,000\\n\\n$7,000,000\\n\\n$8,000,000\\n\\n$9,000,000\\n\\n$10,000,000\\n\\n$11,000,000\\n\\n$12,000,000\\n\\n$13,000,000\\n\\n$14,000,000\\n\\n$15,000,000\\n\\n$16,000,000\\n\\nExpenses\\n\\nRevenues\\n\\n \\n\\nRevenues by Source – Governmental Activities \\n\\n \\n\\nProperty taxes, \\n76.3%\\n\\nCharges for \\nservices, 13.5%\\n\\nOther taxes, 4.2%\\n\\nMiscellaneous, \\n0.3%\\n\\nOperating grants \\nand contributions, \\n\\n4.8%\\n\\nCapital grants and \\ncontributions, 0.1%\\n\\nInvestment \\nincome, 0.7%\\n\\n \\n \\n\\n \\n\\n \\n\\n \\n\\n\\n'"
      ]
     },
     "execution_count": 94,
     "metadata": {},
     "output_type": "execute_result"
    }
   ],
   "source": [
    "text_pages[34]"
   ]
  },
  {
   "cell_type": "code",
   "execution_count": null,
   "metadata": {},
   "outputs": [],
   "source": []
  },
  {
   "cell_type": "code",
   "execution_count": 95,
   "metadata": {},
   "outputs": [],
   "source": [
    "# Function to extract the number of continuous whitespaces ith length greater than threshold.\n",
    "def whitespace_counter(s,threshold):\n",
    "    whites=[]\n",
    "    counter=0\n",
    "    for i in range(len(s)):\n",
    "\n",
    "        if (s[i]==' '):\n",
    "            counter=counter+1\n",
    "            continue\n",
    "        if (counter!=0):\n",
    "            whites.append(counter)\n",
    "            counter=0\n",
    "    return [i for i in whites if i>threshold]\n",
    "        \n",
    "            "
   ]
  },
  {
   "cell_type": "code",
   "execution_count": 96,
   "metadata": {},
   "outputs": [],
   "source": [
    "pg_num=[]                            #The page number of each page.\n",
    "num_count=[]                         #Total number of numeric characters in the page.\n",
    "total_length=[]                      #Total characters in the page.\n",
    "white_space_count=[]                 #Total number of whitespaces(with length n or more). \n",
    "new_line_count=[]                    #Total number of whitespace characters."
   ]
  },
  {
   "cell_type": "code",
   "execution_count": 97,
   "metadata": {},
   "outputs": [],
   "source": [
    "# Calculate the required features\n",
    "for i in range(num_pages):\n",
    "    pg_num.append(i+1)\n",
    "    num_count.append(sum([1 for j in text_pages[i] if (j.isdigit()) ]))\n",
    "    total_length.append(len(text_pages[i]))\n",
    "    white_space_count.append(len(whitespace_counter(text_pages[i],5)))\n",
    "    new_line_count.append(sum([1 for j in text_pages[i] if j=='\\n' ]))"
   ]
  },
  {
   "cell_type": "code",
   "execution_count": 98,
   "metadata": {},
   "outputs": [],
   "source": [
    "data=pd.DataFrame(\n",
    "{\n",
    "'Pg_num':pg_num,\n",
    "'num_count':num_count,\n",
    "'total_length':total_length,\n",
    "'white_space_count':white_space_count,\n",
    "'new_line_count':new_line_count\n",
    "}\n",
    ")"
   ]
  },
  {
   "cell_type": "code",
   "execution_count": 99,
   "metadata": {},
   "outputs": [],
   "source": [
    "# Add column num_ratio which is the proportion of numberic characters to the total characters\n",
    "data['num_ratio']=data['num_count']/data['total_length']\n"
   ]
  },
  {
   "cell_type": "code",
   "execution_count": 100,
   "metadata": {},
   "outputs": [
    {
     "data": {
      "text/html": [
       "<div>\n",
       "<style scoped>\n",
       "    .dataframe tbody tr th:only-of-type {\n",
       "        vertical-align: middle;\n",
       "    }\n",
       "\n",
       "    .dataframe tbody tr th {\n",
       "        vertical-align: top;\n",
       "    }\n",
       "\n",
       "    .dataframe thead th {\n",
       "        text-align: right;\n",
       "    }\n",
       "</style>\n",
       "<table border=\"1\" class=\"dataframe\">\n",
       "  <thead>\n",
       "    <tr style=\"text-align: right;\">\n",
       "      <th></th>\n",
       "      <th>Pg_num</th>\n",
       "      <th>num_count</th>\n",
       "      <th>total_length</th>\n",
       "      <th>white_space_count</th>\n",
       "      <th>new_line_count</th>\n",
       "      <th>num_ratio</th>\n",
       "    </tr>\n",
       "  </thead>\n",
       "  <tbody>\n",
       "    <tr>\n",
       "      <th>34</th>\n",
       "      <td>35</td>\n",
       "      <td>138</td>\n",
       "      <td>568</td>\n",
       "      <td>0</td>\n",
       "      <td>84</td>\n",
       "      <td>0.242958</td>\n",
       "    </tr>\n",
       "  </tbody>\n",
       "</table>\n",
       "</div>"
      ],
      "text/plain": [
       "    Pg_num  num_count  total_length  white_space_count  new_line_count  \\\n",
       "34      35        138           568                  0              84   \n",
       "\n",
       "    num_ratio  \n",
       "34   0.242958  "
      ]
     },
     "execution_count": 100,
     "metadata": {},
     "output_type": "execute_result"
    }
   ],
   "source": [
    "#data['Pg_num'=='34']\n",
    "data.loc[data['Pg_num'] == 35]"
   ]
  },
  {
   "cell_type": "code",
   "execution_count": 101,
   "metadata": {},
   "outputs": [
    {
     "data": {
      "text/plain": [
       "568"
      ]
     },
     "execution_count": 101,
     "metadata": {},
     "output_type": "execute_result"
    }
   ],
   "source": [
    "len(text_pages[34])"
   ]
  },
  {
   "cell_type": "code",
   "execution_count": 102,
   "metadata": {},
   "outputs": [],
   "source": [
    "#64,81,98\n",
    "a1=[33,34,38,43,45,46,47,48,51,53,55,57,59,64,69,70,71,72,73,74,75,76,78,79,80,81,82,83,84,85,86,87,91,92,93,96,97,98,99,102,103,104,105,106,107,109,110,111,112,113,114,115]\n",
    "a2=list(range(117,153))\n",
    "a3=list(range(154,172))\n",
    "a4=list(range(173,178))\n",
    "a5=list(range(179,185))\n",
    "has_table=a1+a2+a3+a4+a5\n",
    "\n",
    "\n"
   ]
  },
  {
   "cell_type": "code",
   "execution_count": 103,
   "metadata": {},
   "outputs": [],
   "source": [
    "data['has_table']=[True if i in has_table else False for i in data['Pg_num']]"
   ]
  },
  {
   "cell_type": "code",
   "execution_count": 104,
   "metadata": {},
   "outputs": [],
   "source": [
    "table_pages = data[data.has_table == True]\n",
    "non_table_pages = data[data.has_table == False]"
   ]
  },
  {
   "cell_type": "code",
   "execution_count": 105,
   "metadata": {},
   "outputs": [
    {
     "data": {
      "image/png": "[encoded data removed]",
      "text/plain": [
       "<Figure size 432x288 with 1 Axes>"
      ]
     },
     "metadata": {
      "needs_background": "light"
     },
     "output_type": "display_data"
    }
   ],
   "source": [
    "bins = [0.0,0.1,0.2,0.3,0.4,0.5]\n",
    "\n",
    "plt.hist(table_pages.num_ratio, bins, alpha=0.5, label='Table',edgecolor='black')\n",
    "plt.hist(non_table_pages.num_ratio, bins, alpha=0.5, label='Non_Table',edgecolor='black')\n",
    "plt.xlabel('Frequency', fontsize=18)\n",
    "plt.ylabel('Numbers to words ratio', fontsize=16)\n",
    "plt.legend(loc='upper right')\n",
    "plt.show()"
   ]
  },
  {
   "cell_type": "code",
   "execution_count": 106,
   "metadata": {},
   "outputs": [
    {
     "data": {
      "image/png": "[encoded data removed]",
      "text/plain": [
       "<Figure size 720x720 with 1 Axes>"
      ]
     },
     "metadata": {
      "needs_background": "light"
     },
     "output_type": "display_data"
    }
   ],
   "source": [
    "plt.figure(figsize=[10,10])\n",
    "plt.hist(table_pages.white_space_count, alpha=0.5, label='Table',edgecolor='black')\n",
    "plt.hist(non_table_pages.white_space_count, alpha=0.5, label='Non_Table',edgecolor='black')\n",
    "plt.legend(loc='upper right')\n",
    "plt.xlabel('Frequency', fontsize=18)\n",
    "plt.ylabel('White Space Count', fontsize=16)\n",
    "#plt.figure(figsize=(9,16))\n",
    "plt.show()"
   ]
  },
  {
   "cell_type": "code",
   "execution_count": 107,
   "metadata": {},
   "outputs": [
    {
     "data": {
      "text/html": [
       "<div>\n",
       "<style scoped>\n",
       "    .dataframe tbody tr th:only-of-type {\n",
       "        vertical-align: middle;\n",
       "    }\n",
       "\n",
       "    .dataframe tbody tr th {\n",
       "        vertical-align: top;\n",
       "    }\n",
       "\n",
       "    .dataframe thead th {\n",
       "        text-align: right;\n",
       "    }\n",
       "</style>\n",
       "<table border=\"1\" class=\"dataframe\">\n",
       "  <thead>\n",
       "    <tr style=\"text-align: right;\">\n",
       "      <th></th>\n",
       "      <th>Pg_num</th>\n",
       "      <th>num_count</th>\n",
       "      <th>total_length</th>\n",
       "      <th>white_space_count</th>\n",
       "      <th>new_line_count</th>\n",
       "      <th>num_ratio</th>\n",
       "      <th>has_table</th>\n",
       "    </tr>\n",
       "  </thead>\n",
       "  <tbody>\n",
       "    <tr>\n",
       "      <th>46</th>\n",
       "      <td>47</td>\n",
       "      <td>69</td>\n",
       "      <td>1729</td>\n",
       "      <td>8</td>\n",
       "      <td>63</td>\n",
       "      <td>0.039907</td>\n",
       "      <td>True</td>\n",
       "    </tr>\n",
       "    <tr>\n",
       "      <th>50</th>\n",
       "      <td>51</td>\n",
       "      <td>58</td>\n",
       "      <td>700</td>\n",
       "      <td>17</td>\n",
       "      <td>41</td>\n",
       "      <td>0.082857</td>\n",
       "      <td>True</td>\n",
       "    </tr>\n",
       "    <tr>\n",
       "      <th>52</th>\n",
       "      <td>53</td>\n",
       "      <td>88</td>\n",
       "      <td>941</td>\n",
       "      <td>16</td>\n",
       "      <td>51</td>\n",
       "      <td>0.093518</td>\n",
       "      <td>True</td>\n",
       "    </tr>\n",
       "    <tr>\n",
       "      <th>58</th>\n",
       "      <td>59</td>\n",
       "      <td>49</td>\n",
       "      <td>649</td>\n",
       "      <td>10</td>\n",
       "      <td>39</td>\n",
       "      <td>0.075501</td>\n",
       "      <td>True</td>\n",
       "    </tr>\n",
       "    <tr>\n",
       "      <th>63</th>\n",
       "      <td>64</td>\n",
       "      <td>24</td>\n",
       "      <td>2991</td>\n",
       "      <td>0</td>\n",
       "      <td>103</td>\n",
       "      <td>0.008024</td>\n",
       "      <td>True</td>\n",
       "    </tr>\n",
       "    <tr>\n",
       "      <th>68</th>\n",
       "      <td>69</td>\n",
       "      <td>96</td>\n",
       "      <td>2454</td>\n",
       "      <td>13</td>\n",
       "      <td>99</td>\n",
       "      <td>0.039120</td>\n",
       "      <td>True</td>\n",
       "    </tr>\n",
       "    <tr>\n",
       "      <th>69</th>\n",
       "      <td>70</td>\n",
       "      <td>98</td>\n",
       "      <td>2860</td>\n",
       "      <td>16</td>\n",
       "      <td>99</td>\n",
       "      <td>0.034266</td>\n",
       "      <td>True</td>\n",
       "    </tr>\n",
       "    <tr>\n",
       "      <th>71</th>\n",
       "      <td>72</td>\n",
       "      <td>24</td>\n",
       "      <td>2943</td>\n",
       "      <td>0</td>\n",
       "      <td>104</td>\n",
       "      <td>0.008155</td>\n",
       "      <td>True</td>\n",
       "    </tr>\n",
       "    <tr>\n",
       "      <th>74</th>\n",
       "      <td>75</td>\n",
       "      <td>22</td>\n",
       "      <td>1030</td>\n",
       "      <td>3</td>\n",
       "      <td>100</td>\n",
       "      <td>0.021359</td>\n",
       "      <td>True</td>\n",
       "    </tr>\n",
       "    <tr>\n",
       "      <th>79</th>\n",
       "      <td>80</td>\n",
       "      <td>69</td>\n",
       "      <td>2815</td>\n",
       "      <td>4</td>\n",
       "      <td>102</td>\n",
       "      <td>0.024512</td>\n",
       "      <td>True</td>\n",
       "    </tr>\n",
       "    <tr>\n",
       "      <th>80</th>\n",
       "      <td>81</td>\n",
       "      <td>93</td>\n",
       "      <td>2184</td>\n",
       "      <td>0</td>\n",
       "      <td>105</td>\n",
       "      <td>0.042582</td>\n",
       "      <td>True</td>\n",
       "    </tr>\n",
       "    <tr>\n",
       "      <th>81</th>\n",
       "      <td>82</td>\n",
       "      <td>135</td>\n",
       "      <td>2849</td>\n",
       "      <td>0</td>\n",
       "      <td>102</td>\n",
       "      <td>0.047385</td>\n",
       "      <td>True</td>\n",
       "    </tr>\n",
       "    <tr>\n",
       "      <th>83</th>\n",
       "      <td>84</td>\n",
       "      <td>145</td>\n",
       "      <td>2900</td>\n",
       "      <td>14</td>\n",
       "      <td>99</td>\n",
       "      <td>0.050000</td>\n",
       "      <td>True</td>\n",
       "    </tr>\n",
       "    <tr>\n",
       "      <th>84</th>\n",
       "      <td>85</td>\n",
       "      <td>172</td>\n",
       "      <td>2206</td>\n",
       "      <td>18</td>\n",
       "      <td>94</td>\n",
       "      <td>0.077969</td>\n",
       "      <td>True</td>\n",
       "    </tr>\n",
       "    <tr>\n",
       "      <th>85</th>\n",
       "      <td>86</td>\n",
       "      <td>31</td>\n",
       "      <td>2279</td>\n",
       "      <td>1</td>\n",
       "      <td>101</td>\n",
       "      <td>0.013602</td>\n",
       "      <td>True</td>\n",
       "    </tr>\n",
       "    <tr>\n",
       "      <th>86</th>\n",
       "      <td>87</td>\n",
       "      <td>79</td>\n",
       "      <td>2796</td>\n",
       "      <td>7</td>\n",
       "      <td>92</td>\n",
       "      <td>0.028255</td>\n",
       "      <td>True</td>\n",
       "    </tr>\n",
       "    <tr>\n",
       "      <th>96</th>\n",
       "      <td>97</td>\n",
       "      <td>100</td>\n",
       "      <td>659</td>\n",
       "      <td>12</td>\n",
       "      <td>24</td>\n",
       "      <td>0.151745</td>\n",
       "      <td>True</td>\n",
       "    </tr>\n",
       "    <tr>\n",
       "      <th>97</th>\n",
       "      <td>98</td>\n",
       "      <td>52</td>\n",
       "      <td>1429</td>\n",
       "      <td>0</td>\n",
       "      <td>60</td>\n",
       "      <td>0.036389</td>\n",
       "      <td>True</td>\n",
       "    </tr>\n",
       "    <tr>\n",
       "      <th>98</th>\n",
       "      <td>99</td>\n",
       "      <td>110</td>\n",
       "      <td>662</td>\n",
       "      <td>13</td>\n",
       "      <td>27</td>\n",
       "      <td>0.166163</td>\n",
       "      <td>True</td>\n",
       "    </tr>\n",
       "    <tr>\n",
       "      <th>168</th>\n",
       "      <td>169</td>\n",
       "      <td>423</td>\n",
       "      <td>1208</td>\n",
       "      <td>3</td>\n",
       "      <td>58</td>\n",
       "      <td>0.350166</td>\n",
       "      <td>True</td>\n",
       "    </tr>\n",
       "    <tr>\n",
       "      <th>173</th>\n",
       "      <td>174</td>\n",
       "      <td>257</td>\n",
       "      <td>1996</td>\n",
       "      <td>16</td>\n",
       "      <td>54</td>\n",
       "      <td>0.128758</td>\n",
       "      <td>True</td>\n",
       "    </tr>\n",
       "  </tbody>\n",
       "</table>\n",
       "</div>"
      ],
      "text/plain": [
       "     Pg_num  num_count  total_length  white_space_count  new_line_count  \\\n",
       "46       47         69          1729                  8              63   \n",
       "50       51         58           700                 17              41   \n",
       "52       53         88           941                 16              51   \n",
       "58       59         49           649                 10              39   \n",
       "63       64         24          2991                  0             103   \n",
       "68       69         96          2454                 13              99   \n",
       "69       70         98          2860                 16              99   \n",
       "71       72         24          2943                  0             104   \n",
       "74       75         22          1030                  3             100   \n",
       "79       80         69          2815                  4             102   \n",
       "80       81         93          2184                  0             105   \n",
       "81       82        135          2849                  0             102   \n",
       "83       84        145          2900                 14              99   \n",
       "84       85        172          2206                 18              94   \n",
       "85       86         31          2279                  1             101   \n",
       "86       87         79          2796                  7              92   \n",
       "96       97        100           659                 12              24   \n",
       "97       98         52          1429                  0              60   \n",
       "98       99        110           662                 13              27   \n",
       "168     169        423          1208                  3              58   \n",
       "173     174        257          1996                 16              54   \n",
       "\n",
       "     num_ratio  has_table  \n",
       "46    0.039907       True  \n",
       "50    0.082857       True  \n",
       "52    0.093518       True  \n",
       "58    0.075501       True  \n",
       "63    0.008024       True  \n",
       "68    0.039120       True  \n",
       "69    0.034266       True  \n",
       "71    0.008155       True  \n",
       "74    0.021359       True  \n",
       "79    0.024512       True  \n",
       "80    0.042582       True  \n",
       "81    0.047385       True  \n",
       "83    0.050000       True  \n",
       "84    0.077969       True  \n",
       "85    0.013602       True  \n",
       "86    0.028255       True  \n",
       "96    0.151745       True  \n",
       "97    0.036389       True  \n",
       "98    0.166163       True  \n",
       "168   0.350166       True  \n",
       "173   0.128758       True  "
      ]
     },
     "execution_count": 107,
     "metadata": {},
     "output_type": "execute_result"
    }
   ],
   "source": [
    "table_pages.loc[table_pages['white_space_count'] < 20]"
   ]
  },
  {
   "cell_type": "code",
   "execution_count": 108,
   "metadata": {},
   "outputs": [
    {
     "data": {
      "image/png": "[encoded data removed]",
      "text/plain": [
       "<Figure size 720x720 with 1 Axes>"
      ]
     },
     "metadata": {
      "needs_background": "light"
     },
     "output_type": "display_data"
    }
   ],
   "source": [
    "plt.figure(figsize=[10,10])\n",
    "plt.hist(table_pages.new_line_count, alpha=0.5, label='Table',edgecolor='black')\n",
    "plt.hist(non_table_pages.new_line_count, alpha=0.5, label='Non_Table',edgecolor='black')\n",
    "plt.legend(loc='upper right')\n",
    "plt.xlabel('Frequency', fontsize=18)\n",
    "plt.ylabel('new_line_count', fontsize=16)\n",
    "#plt.figure(figsize=(9,16))\n",
    "plt.show()"
   ]
  },
  {
   "cell_type": "code",
   "execution_count": null,
   "metadata": {},
   "outputs": [],
   "source": []
  }
 ],
 "metadata": {
  "kernelspec": {
   "display_name": "Python 3",
   "language": "python",
   "name": "python3"
  },
  "language_info": {
   "codemirror_mode": {
    "name": "ipython",
    "version": 3
   },
   "file_extension": ".py",
   "mimetype": "text/x-python",
   "name": "python",
   "nbconvert_exporter": "python",
   "pygments_lexer": "ipython3",
   "version": "3.7.3"
  }
 },
 "nbformat": 4,
 "nbformat_minor": 2
}
